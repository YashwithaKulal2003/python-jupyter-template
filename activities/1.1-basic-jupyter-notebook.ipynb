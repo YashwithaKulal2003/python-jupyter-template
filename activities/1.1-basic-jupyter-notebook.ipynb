{
 "cells": [
  {
   "cell_type": "markdown",
   "id": "f054f174",
   "metadata": {},
   "source": [
    "# Welcome to JupyterLab\n",
    "\n",
    "In this activity, you will get hands-on experience with the basics of JupyterLab. By the end of this notebook, you will be able to:\n",
    "\n",
    "1. Create and run code cells.\n",
    "2. Use Markdown cells for adding text.\n",
    "3. Explore JupyterLab's interface and shortcuts.\n",
    "4. Save and export your notebooks.\n",
    "\n",
    "Let’s get started!\n"
   ]
  },
  {
   "cell_type": "markdown",
   "id": "0bb6bbdd",
   "metadata": {},
   "source": [
    "## 1. Running Code in JupyterLab\n",
    "JupyterLab allows you to write and execute Python code interactively. Code cells are the building blocks of notebooks.\n",
    "\n",
    "### Activity\n",
    "Run the Python code below by selecting the cell and pressing **Shift + Enter** (or clicking the Run button in the toolbar)."
   ]
  },
  {
   "cell_type": "code",
   "execution_count": 3,
   "id": "f2b4273a",
   "metadata": {},
   "outputs": [
    {
     "name": "stdout",
     "output_type": "stream",
     "text": [
      "Yashwitha M\n"
     ]
    }
   ],
   "source": [
    "# This is a Python code cell\n",
    "print('Yashwitha M')"
   ]
  },
  {
   "cell_type": "markdown",
   "id": "dde499ca",
   "metadata": {},
   "source": [
    "### Task\n",
    "1. Modify the code above to print your name.\n",
    "2. Run the cell again to see the output.\n"
   ]
  },
  {
   "cell_type": "markdown",
   "id": "59d7f0ea",
   "metadata": {},
   "source": [
    "## 2. Adding Text with Markdown\n",
    "Markdown cells allow you to add text, headings, lists, and more to your notebook.\n",
    "\n",
    "### Activity\n",
    "1. Double-click this cell to edit it.\n",
    "2. Add your name below using Markdown syntax:\n",
    "\n",
    "### Your Name\n",
    "Yashwitha M\n",
    "\n",
    "3. Press **Shift + Enter** to render the Markdown."
   ]
  },
  {
   "cell_type": "code",
   "execution_count": null,
   "id": "8eb63803",
   "metadata": {},
   "outputs": [],
   "source": []
  },
  {
   "cell_type": "markdown",
   "id": "4a9f2188",
   "metadata": {},
   "source": [
    "## 5. Saving and Exporting Notebooks\n",
    "You can save your notebook using **Ctrl + S** or the save icon in the toolbar.\n",
    "\n",
    "Notebooks can also be exported to other formats like HTML or PDF:\n",
    "1. Go to **File > Export Notebook As**.\n",
    "2. Choose a format (e.g., HTML).\n",
    "### Activity\n",
    "Save this notebook and export it as an HTML file. Verify that the file is created in the File Browser."
   ]
  },
  {
   "cell_type": "markdown",
   "id": "3c27d308",
   "metadata": {},
   "source": [
    "# Congratulations!\n",
    "You have completed the basics of JupyterLab.\n",
    "\n",
    "In the next activity, we will explore Python Matplotlib libraries.\n",
    "\n",
    "Feel free to experiment with JupyterLab further to familiarize yourself with its features."
   ]
  }
 ],
 "metadata": {
  "kernelspec": {
   "display_name": "Python 3",
   "language": "python",
   "name": "python3"
  },
  "language_info": {
   "codemirror_mode": {
    "name": "ipython",
    "version": 3
   },
   "file_extension": ".py",
   "mimetype": "text/x-python",
   "name": "python",
   "nbconvert_exporter": "python",
   "pygments_lexer": "ipython3",
   "version": "3.10.12"
  }
 },
 "nbformat": 4,
 "nbformat_minor": 5
}
